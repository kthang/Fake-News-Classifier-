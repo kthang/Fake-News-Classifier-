{
 "cells": [
  {
   "cell_type": "markdown",
   "metadata": {
    "colab_type": "text",
    "id": "6n050vtKkxum"
   },
   "source": [
    "# Fake _Fake_ News?\n",
    "Kevin Chang, Hariz Hisham, Thuy Le, Tam Nguyen, Qing Zhang<br>\n",
    "Santa Clara University"
   ]
  },
  {
   "cell_type": "markdown",
   "metadata": {
    "colab_type": "text",
    "id": "RGuZKuLw8PMX"
   },
   "source": [
    "The goal of this exercise is to determine whether fake news and factual news sites can be told apart by contemporary algorithms.\n",
    "\n",
    "This analysis is an extension of prior [research](https://arxiv.org/abs/1810.01765) conducted at MIT. The data for this research can be retrieved [here](https://github.com/ramybaly/News-Media-Reliability/). Additionally, this project was inspired by [prior work](http://web.stanford.edu/~mattm401/docs/2018-Golbeck-WebSci-FakeNewsVsSatire.pdf) done by Golbeck et al (2018).\n",
    "\n",
    "Note: In this analysis, we are relying 100% on the output of the algorithm to determine if a news site is 'fake news' or 'reall'. We provide a caveat and explanation as to why this approach may not be completely sound (or in fact, safe) IRL.\n",
    "\n",
    "This project was done in part as a collective effort with the Markkula Center for Applied Ethics at Santa Clara University. For more information on the great work covered by the Markkula Center, click [here](https://www.scu.edu/ethics/).\n",
    "\n",
    "Special thanks to Sanjiv Das and Subbu Vincent for their support and guidance on this project.\n",
    "\n",
    "Keywords: Fake news, classification, support vector machine"
   ]
  },
  {
   "cell_type": "markdown",
   "metadata": {
    "colab_type": "text",
    "id": "MCAUDNsqKKFj"
   },
   "source": [
    "## Environment Setup"
   ]
  },
  {
   "cell_type": "code",
   "execution_count": 0,
   "metadata": {
    "colab": {},
    "colab_type": "code",
    "id": "RrmFurQ1p1Em"
   },
   "outputs": [],
   "source": [
    "import pandas as pd\n",
    "import numpy as np\n",
    "import nltk\n",
    "\n",
    "import warnings\n",
    "warnings.filterwarnings('ignore')"
   ]
  },
  {
   "cell_type": "code",
   "execution_count": 0,
   "metadata": {
    "colab": {
     "base_uri": "https://localhost:8080/",
     "height": 121
    },
    "colab_type": "code",
    "id": "UIMhSDDFqhB3",
    "outputId": "496e4ee9-f0f8-4bcb-9671-a5454fb95823"
   },
   "outputs": [
    {
     "name": "stdout",
     "output_type": "stream",
     "text": [
      "Go to this URL in a browser: https://accounts.google.com/o/oauth2/auth?client_id=947318989803-6bn6qk8qdgf4n4g3pfee6491hc0brc4i.apps.googleusercontent.com&redirect_uri=urn%3aietf%3awg%3aoauth%3a2.0%3aoob&response_type=code&scope=email%20https%3a%2f%2fwww.googleapis.com%2fauth%2fdocs.test%20https%3a%2f%2fwww.googleapis.com%2fauth%2fdrive%20https%3a%2f%2fwww.googleapis.com%2fauth%2fdrive.photos.readonly%20https%3a%2f%2fwww.googleapis.com%2fauth%2fpeopleapi.readonly\n",
      "\n",
      "Enter your authorization code:\n",
      "··········\n",
      "Mounted at /content/drive\n"
     ]
    }
   ],
   "source": [
    "### DON'T RUN UNLESS ON GOOGLE COLAB ###\n",
    "from google.colab import drive\n",
    "drive.mount('/content/drive')\n",
    "### DON'T RUN UNLESS ON GOOGLE COLAB ###"
   ]
  },
  {
   "cell_type": "markdown",
   "metadata": {
    "colab_type": "text",
    "id": "pLxHQ0S0kwTK"
   },
   "source": [
    "## Read in the file"
   ]
  },
  {
   "cell_type": "code",
   "execution_count": 0,
   "metadata": {
    "colab": {},
    "colab_type": "code",
    "id": "qCa5ybtwjRvB"
   },
   "outputs": [],
   "source": [
    "file_path = '/content/drive/Shared drives/Machine Learning Project/Final Project/'\n",
    "df = pd.read_csv(file_path + 'data/corpus_full_text_v2.csv',\n",
    "                 index_col = False)\n",
    "\n",
    "df = df[['source_url','source_url_processed','URL','fact','bias','article_1',\n",
    "         'article_2','article_3','article_4','article_5']].fillna('')"
   ]
  },
  {
   "cell_type": "markdown",
   "metadata": {
    "colab_type": "text",
    "id": "NLig_t303V8M"
   },
   "source": [
    "Below, we transform the 5 columns of news articles into 5 rows. This will generate a unique row for each article, but with the same featureset if the articles come from the same newsite. \n",
    "\n",
    "e.g.\n",
    "\n",
    "We expect CNN to have 5 rows of similar features but containing a different article for each row."
   ]
  },
  {
   "cell_type": "code",
   "execution_count": 0,
   "metadata": {
    "colab": {},
    "colab_type": "code",
    "id": "ESgIafW0QXit"
   },
   "outputs": [],
   "source": [
    "cols = ['article_1','article_2','article_3','article_4','article_5']\n",
    "# transform the five article columns by transposing; articles should be vertical\n",
    "stack = pd.DataFrame(df[cols]).stack().reset_index()\n",
    "\n",
    "stack = stack.drop(['level_0','level_1'], axis = 1)"
   ]
  },
  {
   "cell_type": "code",
   "execution_count": 0,
   "metadata": {
    "colab": {},
    "colab_type": "code",
    "id": "7xnShsy8RxAR"
   },
   "outputs": [],
   "source": [
    "# drop articles from main dataframe\n",
    "df = df.drop(columns = cols)\n",
    "# repeat each news source 5 times since each source has 5 articles extracted\n",
    "df2 = df.loc[df.index.repeat(5)].reset_index(drop = True)"
   ]
  },
  {
   "cell_type": "code",
   "execution_count": 0,
   "metadata": {
    "colab": {},
    "colab_type": "code",
    "id": "tvbt6B4cSOR5"
   },
   "outputs": [],
   "source": [
    "# concatenate repeated df and transformed articles\n",
    "if len(df2) == len(stack):\n",
    "  me = pd.concat([df2,stack], axis = 1)\n",
    "  me = me.rename({0 : 'article'}, axis = 'columns')\n",
    "else:\n",
    "  print('Attempted to merge data frames of different len!')"
   ]
  },
  {
   "cell_type": "code",
   "execution_count": 0,
   "metadata": {
    "colab": {
     "base_uri": "https://localhost:8080/",
     "height": 185
    },
    "colab_type": "code",
    "id": "WVZWS_Z0S3WF",
    "outputId": "3e1a8b43-c14f-4160-bd3c-9d91e6ffc1b8"
   },
   "outputs": [
    {
     "name": "stdout",
     "output_type": "stream",
     "text": [
      "(4595, 6)\n",
      "                       source_url  ...                                            article\n",
      "0    http://www.villagevoice.com/  ...  This Thing Called…\\n\\nJune 25, 1979\\n\\nI am a ...\n",
      "1    http://www.villagevoice.com/  ...  The Closet Syndrome: Gays in Hollywood\\n\\nJune...\n",
      "2    http://www.villagevoice.com/  ...  Way back in the 1980s, Lynn Yaeger started wor...\n",
      "3    http://www.villagevoice.com/  ...  Fred McDarrah\\n\\nFrank O’Hara: He Made Things ...\n",
      "4    http://www.villagevoice.com/  ...  From The Archives When the Lights Went Out in ...\n",
      "5  https://insideclimatenews.org/  ...  InsideClimate News won the 2013 Pulitzer Prize...\n",
      "\n",
      "[6 rows x 6 columns]\n"
     ]
    }
   ],
   "source": [
    "# Check that we did the transformation correctly\n",
    "print(me.shape)\n",
    "print(me.head(6))"
   ]
  },
  {
   "cell_type": "markdown",
   "metadata": {
    "colab_type": "text",
    "id": "e87N8Hcek49W"
   },
   "source": [
    "## Instantiate text cleaning functions"
   ]
  },
  {
   "cell_type": "code",
   "execution_count": 0,
   "metadata": {
    "colab": {
     "base_uri": "https://localhost:8080/",
     "height": 134
    },
    "colab_type": "code",
    "id": "khIbel-tlDYX",
    "outputId": "3181c198-e1a3-4eb0-f305-a8a0ebe2813d"
   },
   "outputs": [
    {
     "name": "stdout",
     "output_type": "stream",
     "text": [
      "[nltk_data] Downloading package stopwords to /root/nltk_data...\n",
      "[nltk_data]   Unzipping corpora/stopwords.zip.\n",
      "[nltk_data] Downloading package punkt to /root/nltk_data...\n",
      "[nltk_data]   Unzipping tokenizers/punkt.zip.\n",
      "[nltk_data] Downloading package wordnet to /root/nltk_data...\n",
      "[nltk_data]   Unzipping corpora/wordnet.zip.\n"
     ]
    },
    {
     "data": {
      "text/plain": [
       "True"
      ]
     },
     "execution_count": 9,
     "metadata": {
      "tags": []
     },
     "output_type": "execute_result"
    }
   ],
   "source": [
    "# Download necessary extensions from nltk\n",
    "nltk.download('stopwords')\n",
    "nltk.download('punkt')\n",
    "nltk.download('wordnet')"
   ]
  },
  {
   "cell_type": "code",
   "execution_count": 0,
   "metadata": {
    "colab": {},
    "colab_type": "code",
    "id": "WH3OA7MJnyqk"
   },
   "outputs": [],
   "source": [
    "from nltk.stem import PorterStemmer\n",
    "from nltk.corpus import stopwords\n",
    "from nltk.tokenize import sent_tokenize, word_tokenize\n",
    "from nltk.stem import WordNetLemmatizer\n",
    "import string\n",
    "\n",
    "def removePuncStr(s):\n",
    "  assert type(s) == str\n",
    "  try:\n",
    "    for c in string.punctuation:\n",
    "        s = s.replace(c,\" \")\n",
    "    return s\n",
    "  except:\n",
    "    print(\"Unable to replace punctuations with empty space.\")\n",
    "\n",
    "def removePunc(string):\n",
    "  try:\n",
    "    return [removePuncStr(h) for h in string]\n",
    "  except:\n",
    "    print(\"Punctuation removal failed.\")\n",
    "  \n",
    "def removeNumbersStr(s):\n",
    "  assert type(s) == str\n",
    "  try:\n",
    "    for c in range(10):\n",
    "        n = str(c)\n",
    "        s = s.replace(n,\" \")\n",
    "    return s\n",
    "  except:\n",
    "    print(\"Unable to remove numbers from string.\")\n",
    "\n",
    "def removeNumbers(text_array):\n",
    "    return [removeNumbersStr(h) for h in text_array]\n",
    "\n",
    "def stemText(text_array):\n",
    "    stemmed_text = []\n",
    "    for h in text_array:\n",
    "        words = word_tokenize(h)\n",
    "        h2 = ''\n",
    "        for w in words:\n",
    "            h2 = h2 + ' ' + PorterStemmer().stem(w)\n",
    "        stemmed_text.append(h2)\n",
    "    return stemmed_text\n",
    "  \n",
    "def stopText(text_array):\n",
    "    stop_words = set(stopwords.words('english'))\n",
    "    stopped_text = []\n",
    "    for h in text_array:\n",
    "        words = word_tokenize(h)\n",
    "        h2 = ''\n",
    "        for w in words:\n",
    "            if w not in stop_words:\n",
    "                h2 = h2 + ' ' + w\n",
    "        stopped_text.append(h2)\n",
    "    return stopped_text\n",
    "  \n",
    "def lemmText(text_array):\n",
    "    WNlemmatizer = WordNetLemmatizer()\n",
    "    lemmatized_text = []\n",
    "    for h in text_array:\n",
    "        words = word_tokenize(h) \n",
    "        h2 = ''\n",
    "        for w in words:\n",
    "            h2 = h2 + ' ' + WNlemmatizer.lemmatize(w)\n",
    "        lemmatized_text.append(h2)\n",
    "    return lemmatized_text\n",
    "\n",
    "def clean_raw(text):\n",
    "  text= BeautifulSoup(text, 'lxml').get_text()\n",
    "  text = text.splitlines()\n",
    "  text = lemmText(stopText(removeNumbers(removePunc(text))))\n",
    "  return text\n",
    "\n",
    "def drop_empty_article(article):\n",
    "  if not article:\n",
    "    return None\n",
    "  else:\n",
    "    return article[0]"
   ]
  },
  {
   "cell_type": "code",
   "execution_count": 0,
   "metadata": {
    "colab": {},
    "colab_type": "code",
    "id": "RBImtArWxp4u"
   },
   "outputs": [],
   "source": [
    "# Apply the clean_raw function onto each row of our data set and append results\n",
    "# to a new column called 'article_clean'. This will be used for NLP downstream\n",
    "me['stripped'] = me['article'].apply(lambda x : x.replace(\"\\n\",\" \").lower())\n",
    "me['cleaned'] = me['stripped'].apply(clean_raw)\n",
    "me['article_clean'] = me['cleaned'].apply(lambda article : drop_empty_article(article))\n",
    "\n",
    "# Drop rows containing N/A articles after transformation\n",
    "me = me[me['article_clean'].notna()].reset_index(drop=True)\n",
    "me = me[me['article_clean'].str.split(' ').str.len() > 50]\\\n",
    "      .reset_index(drop=True)"
   ]
  },
  {
   "cell_type": "markdown",
   "metadata": {
    "colab_type": "text",
    "id": "JfNYzeGwsmR6"
   },
   "source": [
    "## Feature Engineering"
   ]
  },
  {
   "cell_type": "code",
   "execution_count": 0,
   "metadata": {
    "colab": {},
    "colab_type": "code",
    "id": "pD4ra6sgspPL"
   },
   "outputs": [],
   "source": [
    "# Get length of each article after cleaning\n",
    "me['art_len'] = me['article_clean'].str.split(' ').str.len()\n",
    "# Get domain name of each news site\n",
    "me['domain'] = me['source_url_processed'].str.split('.')\\\n",
    "                .apply(lambda x : x[1])"
   ]
  },
  {
   "cell_type": "markdown",
   "metadata": {
    "colab_type": "text",
    "id": "fKUI37r54kyE"
   },
   "source": [
    "## Modeling"
   ]
  },
  {
   "cell_type": "markdown",
   "metadata": {
    "colab_type": "text",
    "id": "-iRNTWlU5jWi"
   },
   "source": [
    "### Defining Target Variable"
   ]
  },
  {
   "cell_type": "code",
   "execution_count": 0,
   "metadata": {
    "colab": {},
    "colab_type": "code",
    "id": "8V6S-gmpqyhe"
   },
   "outputs": [],
   "source": [
    "# Define fake news as news sites with 'LOW' factual rating\n",
    "me['fact_bin'] = me['fact'].map({'LOW': 0, 'MIXED': 0, 'HIGH': 1})"
   ]
  },
  {
   "cell_type": "code",
   "execution_count": 0,
   "metadata": {
    "colab": {},
    "colab_type": "code",
    "id": "owV16uFn4gkV"
   },
   "outputs": [],
   "source": [
    "from sklearn.model_selection import train_test_split\n",
    "#from imblearn.combine import SMOTEENN\n",
    "from sklearn.metrics import confusion_matrix, recall_score\n",
    "\n",
    "# Define the featureset and convert to string\n",
    "# We will be predicting the fact variable\n",
    "X = me['article_clean']\n",
    "y = me['fact_bin']\n",
    "\n",
    "# Stratify the train/test split since we have very imbalanced data.\n",
    "X_train, X_test, y_train, y_test = train_test_split(X,\n",
    "                                                    y,\n",
    "                                                    test_size=0.2,\n",
    "                                                    random_state=42)"
   ]
  },
  {
   "cell_type": "markdown",
   "metadata": {
    "colab_type": "text",
    "id": "osn8ZgcY4ViX"
   },
   "source": [
    "### Tuning model parameters with GridSearchCV"
   ]
  },
  {
   "cell_type": "markdown",
   "metadata": {
    "colab_type": "text",
    "id": "vk09UZog4aj0"
   },
   "source": [
    "The models below utilize GridSearchCV to find the best parameters which will maximize the score for our models. Further reading on GridSearchCV can be found [here](https://scikit-learn.org/stable/modules/generated/sklearn.model_selection.GridSearchCV.html)."
   ]
  },
  {
   "cell_type": "markdown",
   "metadata": {
    "colab_type": "text",
    "id": "_6YQndfBJk6a"
   },
   "source": [
    "#### Proto: Random Forest Classifier"
   ]
  },
  {
   "cell_type": "code",
   "execution_count": 0,
   "metadata": {
    "colab": {
     "base_uri": "https://localhost:8080/",
     "height": 109
    },
    "colab_type": "code",
    "id": "ENXR8CvQJn0y",
    "outputId": "fed05a60-6e0a-40cd-c5d9-aef1db747086"
   },
   "outputs": [
    {
     "name": "stdout",
     "output_type": "stream",
     "text": [
      "Total time taken: 35.010000 minutes\n",
      "\n",
      "{'cvec__max_df': 0.5, 'cvec__max_features': None, 'cvec__ngram_range': (1, 1), 'rf__n_estimators': 500}\n",
      "Best score: 0.686978\n",
      "Mean test score: 0.638715\n"
     ]
    }
   ],
   "source": [
    "import time\n",
    "\n",
    "start_time = time.time()\n",
    "\n",
    "from sklearn.feature_extraction.text import CountVectorizer\n",
    "from sklearn.feature_extraction import stop_words\n",
    "from sklearn.model_selection import GridSearchCV\n",
    "from imblearn.pipeline import make_pipeline, Pipeline\n",
    "from sklearn.ensemble import RandomForestClassifier\n",
    "\n",
    "pipe = Pipeline([('cvec', CountVectorizer(analyzer='word',\n",
    "                                          strip_accents='unicode',\n",
    "                                          stop_words=None)),\n",
    "                ('rf', RandomForestClassifier(n_jobs=-1,\n",
    "                                              random_state=42,\n",
    "                                              max_depth=3))])\n",
    "\n",
    "# Tune hyperparameters\n",
    "pipe_params = {'cvec__ngram_range': ((1,1),(2,2)),\n",
    "               'cvec__max_df': ((0.5,0.75,1.0)),\n",
    "               'cvec__max_features': (None,500,1000,2000),\n",
    "               'rf__n_estimators': (200,500,2000)\n",
    "               }\n",
    "\n",
    "if __name__ == \"__main__\":\n",
    "  # GridSearch cross-validate to find best parameters for our pipeline\n",
    "  gs_rf = GridSearchCV(pipe,\n",
    "                        param_grid=pipe_params,\n",
    "                        cv=5,\n",
    "                        n_jobs=-1)\n",
    "  \n",
    "  gs_rf.fit(X_train, y_train)\n",
    "  gs_rf_res = gs_rf.cv_results_\n",
    "\n",
    "  end_time = time.time()\n",
    "  total_time = round((end_time - start_time) / 60, 2)\n",
    "\n",
    "  print(\"Total time taken: %2f minutes\\n\" % total_time)\n",
    "  print(gs_rf.best_params_)\n",
    "  print(\"Best score: %4f\" % gs_rf.best_score_)\n",
    "  print(\"Mean test score: %4f\" % np.mean(gs_rf_res.get('mean_test_score')))\n",
    "\n",
    "  rf_final_model = gs_rf.best_estimator_"
   ]
  },
  {
   "cell_type": "code",
   "execution_count": 0,
   "metadata": {
    "colab": {
     "base_uri": "https://localhost:8080/",
     "height": 219
    },
    "colab_type": "code",
    "id": "h33tkAmuP9ZV",
    "outputId": "04117834-2569-4f7e-f79d-c37ff7c4ef57"
   },
   "outputs": [
    {
     "name": "stdout",
     "output_type": "stream",
     "text": [
      "[[1046  328]\n",
      " [ 386 1029]]\n",
      "              precision    recall  f1-score   support\n",
      "\n",
      "           0       0.73      0.76      0.75      1374\n",
      "           1       0.76      0.73      0.74      1415\n",
      "\n",
      "    accuracy                           0.74      2789\n",
      "   macro avg       0.74      0.74      0.74      2789\n",
      "weighted avg       0.74      0.74      0.74      2789\n",
      "\n"
     ]
    }
   ],
   "source": [
    "from sklearn.metrics import confusion_matrix, classification_report \n",
    "rf_preds = rf_final_model.predict(X_train)\n",
    "cnf_matrix = confusion_matrix(y_train, rf_preds)\n",
    "\n",
    "print(cnf_matrix)\n",
    "print(classification_report(y_train, rf_preds))"
   ]
  },
  {
   "cell_type": "code",
   "execution_count": 0,
   "metadata": {
    "colab": {
     "base_uri": "https://localhost:8080/",
     "height": 54
    },
    "colab_type": "code",
    "id": "tCC38-wUSGkU",
    "outputId": "0cfbe549-c065-471c-c0f8-d989e9633da1"
   },
   "outputs": [
    {
     "name": "stdout",
     "output_type": "stream",
     "text": [
      "[[222 102]\n",
      " [127 247]]\n"
     ]
    }
   ],
   "source": [
    "from sklearn.metrics import confusion_matrix\n",
    "\n",
    "# Create out-of-sample prediction using RandomForest\n",
    "y_hat = rf_final_model.predict(X_test)\n",
    "\n",
    "# Print out the confusion matrix\n",
    "cnf_matrix = confusion_matrix(y_test, y_hat)\n",
    "print(cnf_matrix)"
   ]
  },
  {
   "cell_type": "code",
   "execution_count": 0,
   "metadata": {
    "colab": {
     "base_uri": "https://localhost:8080/",
     "height": 459
    },
    "colab_type": "code",
    "id": "1hFwpMLPRe0l",
    "outputId": "fc9b2347-6eeb-4bde-d466-ae8cbae2a74f"
   },
   "outputs": [
    {
     "data": {
      "image/png": "[encoded data removed]",
      "text/plain": [
       "<Figure size 576x432 with 1 Axes>"
      ]
     },
     "metadata": {
      "tags": []
     },
     "output_type": "display_data"
    },
    {
     "name": "stdout",
     "output_type": "stream",
     "text": [
      "Area under curve (AUC):  0.7510068000264079\n"
     ]
    }
   ],
   "source": [
    "from matplotlib import pyplot as plt\n",
    "%matplotlib inline\n",
    "\n",
    "plt.style.use('fivethirtyeight')\n",
    "plt.rcParams['figure.figsize'] = 8,6\n",
    "\n",
    "# Curve chart - RandomForest\n",
    "from sklearn.metrics import roc_curve, auc\n",
    "y_score = rf_final_model.predict_proba(X_test)[:,1]\n",
    "fpr, tpr, _ = roc_curve(y_test, y_score)\n",
    "\n",
    "plt.title('ROC curve')\n",
    "plt.xlabel('FPR (Precision)')\n",
    "plt.ylabel('TPR (Recall)')\n",
    "\n",
    "plt.plot(fpr,tpr)\n",
    "plt.plot((0,1), ls='dashed',color='black')\n",
    "plt.show()\n",
    "print('Area under curve (AUC): ', auc(fpr,tpr))"
   ]
  },
  {
   "cell_type": "markdown",
   "metadata": {
    "colab_type": "text",
    "id": "F8L-oem3JZ34"
   },
   "source": [
    "#### Model 1: CountVectorizer and SVM (the long one)"
   ]
  },
  {
   "cell_type": "markdown",
   "metadata": {
    "colab_type": "text",
    "id": "rOhjaX8kEMch"
   },
   "source": [
    "We implement an SVM classifier as our primary model since prior studies (SVM) have also utilized SVM with good results. We will replicate the model using our own feature set and tune parameters."
   ]
  },
  {
   "cell_type": "code",
   "execution_count": 0,
   "metadata": {
    "colab": {
     "base_uri": "https://localhost:8080/",
     "height": 128
    },
    "colab_type": "code",
    "id": "D4GPHkowl89U",
    "outputId": "ed55b9e7-4b34-45bd-b25d-7e7005882a63"
   },
   "outputs": [
    {
     "ename": "SyntaxError",
     "evalue": "ignored",
     "output_type": "error",
     "traceback": [
      "\u001b[0;36m  File \u001b[0;32m\"<ipython-input-13-e6a5589d1934>\"\u001b[0;36m, line \u001b[0;32m18\u001b[0m\n\u001b[0;31m    ])\u001b[0m\n\u001b[0m    ^\u001b[0m\n\u001b[0;31mSyntaxError\u001b[0m\u001b[0;31m:\u001b[0m invalid syntax\n"
     ]
    }
   ],
   "source": [
    "import time\n",
    "\n",
    "start_time = time.time()\n",
    "\n",
    "from sklearn.feature_extraction.text import CountVectorizer\n",
    "from sklearn.svm import SVC\n",
    "from sklearn.feature_extraction import stop_words\n",
    "from sklearn.model_selection import GridSearchCV\n",
    "from imblearn.pipeline import make_pipeline, Pipeline\n",
    "\n",
    "# Instantiate pipeline which will be tuned\n",
    "pipe = Pipeline([('cvec', CountVectorizer(analyzer='word',\n",
    "                                           strip_accents='unicode')),\n",
    "                 ('svm', SVC(kernel='rbf',\n",
    "                             class_weight='balanced',\n",
    "                             C=1,\n",
    "                             probability=True,\n",
    "                             random_state=42))\n",
    "                 ])\n",
    "\n",
    "# Tune hyperparameters\n",
    "pipe_params = {'cvec__stop_words': (None, 'english'),\n",
    "               'cvec__ngram_range': ((1,1), (2,2)),\n",
    "               'cvec__max_df': ((0.5, 0.75, 1.0)),\n",
    "               'cvec__max_features': (None, 500, 1000, 2000)\n",
    "               }\n",
    "\n",
    "if __name__ == \"__main__\":\n",
    "  # GridSearch cross-validate to find best parameters for our pipeline\n",
    "  gs_svm = GridSearchCV(pipe,\n",
    "                        param_grid=pipe_params,\n",
    "                        cv=5,\n",
    "                        n_jobs=-1)\n",
    "  \n",
    "  gs_svm.fit(X_train, y_train)\n",
    "  gs_svm_res = gs_svm.cv_results_\n",
    "\n",
    "  end_time = time.time()\n",
    "  total_time = round((end_time - start_time) / 60, 2)\n",
    "\n",
    "  print(\"Total time taken: %2f minutes\\n\" % total_time)\n",
    "  print(gs_svm.best_params_)\n",
    "  print(\"Best score: %4f\" % gs_svm.best_score_)\n",
    "  print(\"Mean test score: %4f\" % np.mean(gs_svm_res.get('mean_test_score')))\n",
    "\n",
    "  svm_final_model = gs_svm.best_estimator_"
   ]
  },
  {
   "cell_type": "code",
   "execution_count": 0,
   "metadata": {
    "colab": {
     "base_uri": "https://localhost:8080/",
     "height": 168
    },
    "colab_type": "code",
    "id": "L0q6-dM2pAvU",
    "outputId": "bba2f8ab-1ca8-4b34-b24c-e63ea3a27be3"
   },
   "outputs": [
    {
     "name": "stdout",
     "output_type": "stream",
     "text": [
      "              precision    recall  f1-score   support\n",
      "\n",
      "           0       0.98      1.00      0.99      1250\n",
      "           1       1.00      0.98      0.99      1322\n",
      "\n",
      "    accuracy                           0.99      2572\n",
      "   macro avg       0.99      0.99      0.99      2572\n",
      "weighted avg       0.99      0.99      0.99      2572\n",
      "\n"
     ]
    }
   ],
   "source": [
    "from sklearn.metrics import confusion_matrix, classification_report \n",
    "svm_preds = svm_final_model.predict(X_train)\n",
    "print(classification_report(y_train, svm_preds))"
   ]
  },
  {
   "cell_type": "markdown",
   "metadata": {
    "colab_type": "text",
    "id": "YpEZPx1wJg-P"
   },
   "source": [
    "#### Model 2: TfidfVectorizer and Logit (the quicker one)"
   ]
  },
  {
   "cell_type": "markdown",
   "metadata": {
    "colab_type": "text",
    "id": "CBKPi-7j7mgr"
   },
   "source": [
    "We also implemented a logit model for coefficient interpretability"
   ]
  },
  {
   "cell_type": "code",
   "execution_count": 0,
   "metadata": {
    "colab": {
     "base_uri": "https://localhost:8080/",
     "height": 127
    },
    "colab_type": "code",
    "id": "SKmgY2xOKnPb",
    "outputId": "74570f1d-cfa9-4678-c341-d33983830e52"
   },
   "outputs": [
    {
     "name": "stdout",
     "output_type": "stream",
     "text": [
      "Total time taken: 36.060445 minutes\n",
      "\n",
      "{'cvec__max_df': 0.5, 'cvec__max_features': None, 'cvec__ngram_range': (1, 1), 'lr__C': 0.01}\n",
      "Best score: 0.743994\n",
      "Mean train score: 0.899527\n",
      "Mean test score: 0.679425\n"
     ]
    }
   ],
   "source": [
    "from sklearn.feature_extraction.text import TfidfVectorizer\n",
    "from sklearn.linear_model import LogisticRegression\n",
    "\n",
    "start_time = time.time()\n",
    "\n",
    "pipe = Pipeline([('cvec', CountVectorizer(analyzer='word',\n",
    "                                          strip_accents='unicode',\n",
    "                                          stop_words=None)),\n",
    "                 ('lr', LogisticRegression(solver='liblinear',\n",
    "                                           random_state=42))])\n",
    "\n",
    "# Tune GridSearchCV\n",
    "pipe_params = {'cvec__ngram_range': ((1,1),(2,2)),\n",
    "               'cvec__max_df': ((0.5,0.75,1.0)),\n",
    "               'cvec__max_features': (None,500,1000,2000),\n",
    "               'lr__C': (0.01, 1.0, 10.0)\n",
    "               }\n",
    "\n",
    "if __name__ == \"__main__\":\n",
    "  # GridSearch cross-validate to find best parameters for our pipeline\n",
    "  gs_lr = GridSearchCV(pipe,\n",
    "                       param_grid=pipe_params,\n",
    "                       cv=5,\n",
    "                       n_jobs=-1,\n",
    "                       return_train_score=True)\n",
    "  gs_lr.fit(X_train, y_train)\n",
    "  gs_lr_res = gs_lr.cv_results_\n",
    "\n",
    "  end_time = time.time()\n",
    "  total_time = (end_time - start_time) / 60\n",
    "\n",
    "  print(\"Total time taken: %2f minutes\\n\" % total_time)\n",
    "  print(gs_lr.best_params_)\n",
    "  print(\"Best score: %4f\" % gs_lr.best_score_)\n",
    "  print(\"Mean train score: %4f\" % np.mean(gs_lr_res.get('mean_train_score')))\n",
    "  print(\"Mean test score: %4f\" % np.mean(gs_lr_res.get('mean_test_score')))\n",
    "\n",
    "  lr_final_model = gs_lr.best_estimator_\n",
    "  "
   ]
  },
  {
   "cell_type": "code",
   "execution_count": 0,
   "metadata": {
    "colab": {
     "base_uri": "https://localhost:8080/",
     "height": 219
    },
    "colab_type": "code",
    "id": "QZiTekPhREcf",
    "outputId": "ea645e04-3cfb-48f9-a734-613df7b4e5ce"
   },
   "outputs": [
    {
     "name": "stdout",
     "output_type": "stream",
     "text": [
      "[[1361   13]\n",
      " [  53 1362]]\n",
      "              precision    recall  f1-score   support\n",
      "\n",
      "           0       0.96      0.99      0.98      1374\n",
      "           1       0.99      0.96      0.98      1415\n",
      "\n",
      "    accuracy                           0.98      2789\n",
      "   macro avg       0.98      0.98      0.98      2789\n",
      "weighted avg       0.98      0.98      0.98      2789\n",
      "\n"
     ]
    }
   ],
   "source": [
    "from sklearn.metrics import confusion_matrix, classification_report \n",
    "lr_preds = lr_final_model.predict(X_train)\n",
    "cnf_matrix = confusion_matrix(y_train, lr_preds)\n",
    "\n",
    "print(cnf_matrix)\n",
    "print(classification_report(y_train, lr_preds))"
   ]
  },
  {
   "cell_type": "code",
   "execution_count": 0,
   "metadata": {
    "colab": {
     "base_uri": "https://localhost:8080/",
     "height": 54
    },
    "colab_type": "code",
    "id": "lCR-q8b3YqQy",
    "outputId": "2884ed5d-dab5-4b5c-c8a5-90c12f785914"
   },
   "outputs": [
    {
     "name": "stdout",
     "output_type": "stream",
     "text": [
      "[[250  74]\n",
      " [102 272]]\n"
     ]
    }
   ],
   "source": [
    "from sklearn.metrics import confusion_matrix\n",
    "\n",
    "# Create out-of-sample prediction using RandomForest\n",
    "y_hat = lr_final_model.predict(X_test)\n",
    "\n",
    "# Print out the confusion matrix\n",
    "cnf_matrix = confusion_matrix(y_test, y_hat)\n",
    "print(cnf_matrix)"
   ]
  },
  {
   "cell_type": "code",
   "execution_count": 0,
   "metadata": {
    "colab": {
     "base_uri": "https://localhost:8080/",
     "height": 459
    },
    "colab_type": "code",
    "id": "XOu9KjzCY1Rq",
    "outputId": "b88a9d26-2177-4ddd-e804-a8c5a0ed6336"
   },
   "outputs": [
    {
     "data": {
      "image/png": "[encoded data removed]",
      "text/plain": [
       "<Figure size 576x432 with 1 Axes>"
      ]
     },
     "metadata": {
      "tags": []
     },
     "output_type": "display_data"
    },
    {
     "name": "stdout",
     "output_type": "stream",
     "text": [
      "Area under curve (AUC):  0.8201046411830726\n"
     ]
    }
   ],
   "source": [
    "from matplotlib import pyplot as plt\n",
    "%matplotlib inline\n",
    "\n",
    "plt.style.use('fivethirtyeight')\n",
    "plt.rcParams['figure.figsize'] = 8,6\n",
    "\n",
    "# Curve chart - RandomForest\n",
    "from sklearn.metrics import roc_curve, auc\n",
    "y_score = lr_final_model.predict_proba(X_test)[:,1]\n",
    "fpr, tpr, _ = roc_curve(y_test, y_score)\n",
    "\n",
    "plt.title('ROC curve')\n",
    "plt.xlabel('FPR (Precision)')\n",
    "plt.ylabel('TPR (Recall)')\n",
    "\n",
    "plt.plot(fpr,tpr)\n",
    "plt.plot((0,1), ls='dashed',color='black')\n",
    "plt.show()\n",
    "print('Area under curve (AUC): ', auc(fpr,tpr))"
   ]
  },
  {
   "cell_type": "markdown",
   "metadata": {
    "colab_type": "text",
    "id": "Gp4BhiHiJ6Tk"
   },
   "source": [
    "### Final Model"
   ]
  },
  {
   "cell_type": "markdown",
   "metadata": {
    "colab_type": "text",
    "id": "4FVVhz3llYlC"
   },
   "source": [
    "#### Final Model: TfidfVec into SVM "
   ]
  },
  {
   "cell_type": "code",
   "execution_count": 0,
   "metadata": {
    "colab": {},
    "colab_type": "code",
    "id": "Sx_pM8z-EFFX"
   },
   "outputs": [],
   "source": [
    "from sklearn.svm import SVC\n",
    "from sklearn.feature_extraction.text import CountVectorizer\n",
    "from sklearn.metrics import confusion_matrix, recall_score, roc_auc_score\n",
    "\n",
    "y_hat = svm_final_model.predict(X_test)\n",
    "\n",
    "#print('Accuracy score: ' + str(svm.score(Xtf_test, y_test)))\n",
    "#print('Recall score: ' + str(recall_score(y_test, preds)))\n",
    "#print('AUC score: ' + str(roc_auc_score(y_test,preds)))"
   ]
  },
  {
   "cell_type": "code",
   "execution_count": 0,
   "metadata": {
    "colab": {
     "base_uri": "https://localhost:8080/",
     "height": 202
    },
    "colab_type": "code",
    "id": "TTPV1SWhR1qc",
    "outputId": "19b2462d-5eef-46ff-f9ca-b5e0e762813d"
   },
   "outputs": [
    {
     "name": "stdout",
     "output_type": "stream",
     "text": [
      "[[242  71]\n",
      " [ 93 238]]\n",
      "              precision    recall  f1-score   support\n",
      "\n",
      "           0       0.72      0.77      0.75       313\n",
      "           1       0.77      0.72      0.74       331\n",
      "\n",
      "    accuracy                           0.75       644\n",
      "   macro avg       0.75      0.75      0.75       644\n",
      "weighted avg       0.75      0.75      0.75       644\n",
      "\n"
     ]
    }
   ],
   "source": [
    "from sklearn.metrics import confusion_matrix, classification_report\n",
    "cnf_matrix = confusion_matrix(y_test, y_hat)\n",
    "# Print the confusion matrix\n",
    "print(cnf_matrix)\n",
    "\n",
    "# Print the classification report\n",
    "print(classification_report(y_test, y_hat))"
   ]
  },
  {
   "cell_type": "code",
   "execution_count": 0,
   "metadata": {
    "colab": {
     "base_uri": "https://localhost:8080/",
     "height": 458
    },
    "colab_type": "code",
    "id": "qqQl4pMPH4zx",
    "outputId": "c7ff0d10-52ca-45a2-97a2-d9226aff77cd"
   },
   "outputs": [
    {
     "data": {
      "image/png": "[encoded data removed]",
      "text/plain": [
       "<Figure size 576x432 with 1 Axes>"
      ]
     },
     "metadata": {
      "tags": []
     },
     "output_type": "display_data"
    },
    {
     "name": "stdout",
     "output_type": "stream",
     "text": [
      "Area under curve (AUC):  0.8119262955705915\n"
     ]
    }
   ],
   "source": [
    "from matplotlib import pyplot as plt\n",
    "%matplotlib inline\n",
    "\n",
    "plt.style.use('fivethirtyeight')\n",
    "plt.rcParams['figure.figsize'] = 8,6\n",
    "\n",
    "# Curve chart - SVM\n",
    "from sklearn.metrics import roc_curve, auc\n",
    "y_score = svm_final_model.predict_proba(X_test)[:,1]\n",
    "fpr, tpr, _ = roc_curve(y_test, y_score)\n",
    "\n",
    "plt.title('ROC curve')\n",
    "plt.xlabel('FPR (Precision)')\n",
    "plt.ylabel('TPR (Recall)')\n",
    "\n",
    "plt.plot(fpr,tpr)\n",
    "plt.plot((0,1), ls='dashed',color='black')\n",
    "plt.show()\n",
    "print('Area under curve (AUC): ', auc(fpr,tpr))"
   ]
  },
  {
   "cell_type": "markdown",
   "metadata": {
    "colab_type": "text",
    "id": "W97IUMTBekhc"
   },
   "source": [
    "#### Final Model 2: TfidfVec into Logit"
   ]
  },
  {
   "cell_type": "code",
   "execution_count": 0,
   "metadata": {
    "colab": {},
    "colab_type": "code",
    "id": "ccFtSkgRGiSd"
   },
   "outputs": [],
   "source": [
    "from sklearn.linear_model import LogisticRegression\n",
    "from sklearn.feature_extraction.text import CountVectorizer\n",
    "from sklearn.metrics import confusion_matrix, recall_score, roc_auc_score\n",
    "from imblearn.pipeline import make_pipeline, Pipeline\n",
    "from sklearn.feature_extraction import stop_words\n",
    "\n",
    "# Predict test set using final model\n",
    "y_hat = lr_final_model.predict(X_test)\n",
    "\n",
    "# Print the results\n",
    "#print('Accuracy score: ' + str(lr.score(Xtf_test, y_test)))\n",
    "#print('Recall score: ' + str(recall_score(y_test, preds)))\n",
    "#print('AUC score: ' + str(roc_auc_score(y_test, preds)))"
   ]
  },
  {
   "cell_type": "code",
   "execution_count": 0,
   "metadata": {
    "colab": {
     "base_uri": "https://localhost:8080/",
     "height": 202
    },
    "colab_type": "code",
    "id": "BCmBPi-vHOjl",
    "outputId": "a04edb74-d43b-4fd0-b0d6-9c6df0518de8"
   },
   "outputs": [
    {
     "name": "stdout",
     "output_type": "stream",
     "text": [
      "[[242  71]\n",
      " [ 77 254]]\n",
      "              precision    recall  f1-score   support\n",
      "\n",
      "           0       0.76      0.77      0.77       313\n",
      "           1       0.78      0.77      0.77       331\n",
      "\n",
      "    accuracy                           0.77       644\n",
      "   macro avg       0.77      0.77      0.77       644\n",
      "weighted avg       0.77      0.77      0.77       644\n",
      "\n"
     ]
    }
   ],
   "source": [
    "from sklearn.metrics import confusion_matrix,classification_report,roc_auc_score\n",
    "\n",
    "# Print out the confusion matrix\n",
    "cnf_matrix = confusion_matrix(y_test, y_hat)\n",
    "print(cnf_matrix)\n",
    "\n",
    "# Print out the classification report\n",
    "print(classification_report(y_test, y_hat))"
   ]
  },
  {
   "cell_type": "code",
   "execution_count": 0,
   "metadata": {
    "colab": {
     "base_uri": "https://localhost:8080/",
     "height": 458
    },
    "colab_type": "code",
    "id": "Ht_iK5kCJS7n",
    "outputId": "b2bb9eda-0e06-4f94-ac3b-ebac5dc97de8"
   },
   "outputs": [
    {
     "data": {
      "image/png": "[encoded data removed]",
      "text/plain": [
       "<Figure size 576x432 with 1 Axes>"
      ]
     },
     "metadata": {
      "tags": []
     },
     "output_type": "display_data"
    },
    {
     "name": "stdout",
     "output_type": "stream",
     "text": [
      "Area under curve (AUC):  0.8260475082767873\n"
     ]
    }
   ],
   "source": [
    "from matplotlib import pyplot as plt\n",
    "%matplotlib inline\n",
    "\n",
    "plt.style.use('fivethirtyeight')\n",
    "plt.rcParams['figure.figsize'] = 8,6\n",
    "\n",
    "# Curve chart - logit\n",
    "from sklearn.metrics import roc_curve, auc\n",
    "y_score = lr_final_model.predict_proba(X_test)[:,1]\n",
    "fpr, tpr, _ = roc_curve(y_test, y_score)\n",
    "\n",
    "plt.title('ROC curve - Logit')\n",
    "plt.xlabel('FPR (Precision)')\n",
    "plt.ylabel('TPR (Recall)')\n",
    "\n",
    "plt.plot(fpr,tpr)\n",
    "plt.plot((0,1), ls='dashed',color='black')\n",
    "plt.show()\n",
    "print('Area under curve (AUC): ', auc(fpr,tpr))"
   ]
  },
  {
   "cell_type": "markdown",
   "metadata": {
    "colab_type": "text",
    "id": "de3xu35QRjW-"
   },
   "source": [
    "#### Coefficient Analysis"
   ]
  },
  {
   "cell_type": "code",
   "execution_count": 0,
   "metadata": {
    "colab": {
     "base_uri": "https://localhost:8080/",
     "height": 412
    },
    "colab_type": "code",
    "id": "YBNuyF30Hczt",
    "outputId": "f2b29a25-5577-48f4-e72f-4bebfcccdc9b"
   },
   "outputs": [
    {
     "data": {
      "image/png": "[encoded data removed]",
      "text/plain": [
       "<Figure size 576x432 with 1 Axes>"
      ]
     },
     "metadata": {
      "tags": []
     },
     "output_type": "display_data"
    }
   ],
   "source": [
    "import seaborn as sns\n",
    "\n",
    "# Create list of logistic regression coefficients \n",
    "lr_coef = np.array(lr_final_model.named_steps['lr'].coef_).tolist()\n",
    "lr_coef = lr_coef[0]\n",
    "\n",
    "# create dataframe from lasso coef\n",
    "lr_coef = pd.DataFrame(np.round_(lr_coef,\n",
    "                                 decimals=3), \n",
    "                       lr_final_model.named_steps['cvec'].get_feature_names(),\n",
    "                       columns = [\"penalized_regression_coefficients\"])\n",
    "\n",
    "# sort the values from high to low\n",
    "lr_coef = lr_coef.sort_values(by = 'penalized_regression_coefficients', \n",
    "ascending = False)\n",
    "\n",
    "# create best and worst performing lasso coef dataframes\n",
    "df_head = lr_coef.head(10) \n",
    "df_tail = lr_coef.tail(10)\n",
    "\n",
    "# merge back together\n",
    "df_merged = pd.concat([df_head, df_tail], axis=0)\n",
    "\n",
    "# plot the sorted dataframe\n",
    "fig, ax = plt.subplots()\n",
    "fig.set_size_inches(8, 6)\n",
    "fig.suptitle('Coefficient Analysis', size=14)\n",
    "ax = sns.barplot(x = 'penalized_regression_coefficients', y= df_merged.index, \n",
    "data=df_merged)\n",
    "ax.set(xlabel='Penalized Regression Coefficients')\n",
    "plt.tight_layout(pad=3, w_pad=0, h_pad=0)\n",
    "plt.show()"
   ]
  },
  {
   "cell_type": "code",
   "execution_count": 0,
   "metadata": {
    "colab": {},
    "colab_type": "code",
    "id": "kTA5YAAhfSzA"
   },
   "outputs": [],
   "source": []
  }
 ],
 "metadata": {
  "colab": {
   "collapsed_sections": [],
   "name": "20190609_modeling_fake_news.ipynb",
   "provenance": []
  },
  "kernelspec": {
   "display_name": "Python 3",
   "language": "python",
   "name": "python3"
  },
  "language_info": {
   "codemirror_mode": {
    "name": "ipython",
    "version": 3
   },
   "file_extension": ".py",
   "mimetype": "text/x-python",
   "name": "python",
   "nbconvert_exporter": "python",
   "pygments_lexer": "ipython3",
   "version": "3.6.5"
  }
 },
 "nbformat": 4,
 "nbformat_minor": 1
}
